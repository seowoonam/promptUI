{
 "cells": [
  {
   "cell_type": "markdown",
   "metadata": {},
   "source": [
    "# Example for json exports"
   ]
  },
  {
   "cell_type": "code",
   "execution_count": 9,
   "metadata": {},
   "outputs": [
    {
     "data": {
      "text/plain": [
       "{'country': ['nl', 'be', 'nl', 'fr'], 'year': [2024, 2024, 2021, 2020]}"
      ]
     },
     "execution_count": 9,
     "metadata": {},
     "output_type": "execute_result"
    }
   ],
   "source": [
    "llm_output = {\"country\": [\"nl\", \"be\", \"nl\", \"fr\"], \"year\": [2024, 2024, 2021, 2020]}\n",
    "llm_output"
   ]
  },
  {
   "cell_type": "code",
   "execution_count": 8,
   "metadata": {},
   "outputs": [
    {
     "data": {
      "text/plain": [
       "{'country': ['be', 'fr', 'nl'], 'year': [2024, 2020, 2021]}"
      ]
     },
     "execution_count": 8,
     "metadata": {},
     "output_type": "execute_result"
    }
   ],
   "source": [
    "unique_values = {entity: list(set(values)) for entity, values in llm_output.items()}\n",
    "unique_values"
   ]
  },
  {
   "cell_type": "markdown",
   "metadata": {},
   "source": [
    "# Example with table"
   ]
  },
  {
   "cell_type": "code",
   "execution_count": 13,
   "metadata": {},
   "outputs": [
    {
     "data": {
      "text/html": [
       "<div>\n",
       "<style scoped>\n",
       "    .dataframe tbody tr th:only-of-type {\n",
       "        vertical-align: middle;\n",
       "    }\n",
       "\n",
       "    .dataframe tbody tr th {\n",
       "        vertical-align: top;\n",
       "    }\n",
       "\n",
       "    .dataframe thead th {\n",
       "        text-align: right;\n",
       "    }\n",
       "</style>\n",
       "<table border=\"1\" class=\"dataframe\">\n",
       "  <thead>\n",
       "    <tr style=\"text-align: right;\">\n",
       "      <th></th>\n",
       "      <th>iso</th>\n",
       "      <th>country_name</th>\n",
       "      <th>year</th>\n",
       "      <th>tree_loss_ha</th>\n",
       "      <th>tree_loss_by_fires_ha</th>\n",
       "    </tr>\n",
       "  </thead>\n",
       "  <tbody>\n",
       "    <tr>\n",
       "      <th>0</th>\n",
       "      <td>AFG</td>\n",
       "      <td>Afghanistan</td>\n",
       "      <td>2001</td>\n",
       "      <td>88.092712</td>\n",
       "      <td>12.249294</td>\n",
       "    </tr>\n",
       "    <tr>\n",
       "      <th>1</th>\n",
       "      <td>AGO</td>\n",
       "      <td>Angola</td>\n",
       "      <td>2001</td>\n",
       "      <td>101220.621525</td>\n",
       "      <td>888.694561</td>\n",
       "    </tr>\n",
       "    <tr>\n",
       "      <th>2</th>\n",
       "      <td>AIA</td>\n",
       "      <td>Anguilla</td>\n",
       "      <td>2001</td>\n",
       "      <td>3.878461</td>\n",
       "      <td>0.000000</td>\n",
       "    </tr>\n",
       "    <tr>\n",
       "      <th>3</th>\n",
       "      <td>ALA</td>\n",
       "      <td>Åland</td>\n",
       "      <td>2001</td>\n",
       "      <td>396.934826</td>\n",
       "      <td>8.129861</td>\n",
       "    </tr>\n",
       "    <tr>\n",
       "      <th>4</th>\n",
       "      <td>ALB</td>\n",
       "      <td>Albania</td>\n",
       "      <td>2001</td>\n",
       "      <td>3729.021031</td>\n",
       "      <td>754.554994</td>\n",
       "    </tr>\n",
       "    <tr>\n",
       "      <th>...</th>\n",
       "      <td>...</td>\n",
       "      <td>...</td>\n",
       "      <td>...</td>\n",
       "      <td>...</td>\n",
       "      <td>...</td>\n",
       "    </tr>\n",
       "    <tr>\n",
       "      <th>4372</th>\n",
       "      <td>XKO</td>\n",
       "      <td>Kosovo</td>\n",
       "      <td>2022</td>\n",
       "      <td>784.685260</td>\n",
       "      <td>98.485724</td>\n",
       "    </tr>\n",
       "    <tr>\n",
       "      <th>4373</th>\n",
       "      <td>XNC</td>\n",
       "      <td>Northern Cyprus</td>\n",
       "      <td>2022</td>\n",
       "      <td>527.159030</td>\n",
       "      <td>519.345016</td>\n",
       "    </tr>\n",
       "    <tr>\n",
       "      <th>4374</th>\n",
       "      <td>ZAF</td>\n",
       "      <td>South Africa</td>\n",
       "      <td>2022</td>\n",
       "      <td>40979.718696</td>\n",
       "      <td>6498.604030</td>\n",
       "    </tr>\n",
       "    <tr>\n",
       "      <th>4375</th>\n",
       "      <td>ZMB</td>\n",
       "      <td>Zambia</td>\n",
       "      <td>2022</td>\n",
       "      <td>179098.261453</td>\n",
       "      <td>1336.926199</td>\n",
       "    </tr>\n",
       "    <tr>\n",
       "      <th>4376</th>\n",
       "      <td>ZWE</td>\n",
       "      <td>Zimbabwe</td>\n",
       "      <td>2022</td>\n",
       "      <td>8264.980457</td>\n",
       "      <td>135.146831</td>\n",
       "    </tr>\n",
       "  </tbody>\n",
       "</table>\n",
       "<p>4377 rows × 5 columns</p>\n",
       "</div>"
      ],
      "text/plain": [
       "      iso     country_name  year   tree_loss_ha  tree_loss_by_fires_ha\n",
       "0     AFG      Afghanistan  2001      88.092712              12.249294\n",
       "1     AGO           Angola  2001  101220.621525             888.694561\n",
       "2     AIA         Anguilla  2001       3.878461               0.000000\n",
       "3     ALA            Åland  2001     396.934826               8.129861\n",
       "4     ALB          Albania  2001    3729.021031             754.554994\n",
       "...   ...              ...   ...            ...                    ...\n",
       "4372  XKO           Kosovo  2022     784.685260              98.485724\n",
       "4373  XNC  Northern Cyprus  2022     527.159030             519.345016\n",
       "4374  ZAF     South Africa  2022   40979.718696            6498.604030\n",
       "4375  ZMB           Zambia  2022  179098.261453            1336.926199\n",
       "4376  ZWE         Zimbabwe  2022    8264.980457             135.146831\n",
       "\n",
       "[4377 rows x 5 columns]"
      ]
     },
     "execution_count": 13,
     "metadata": {},
     "output_type": "execute_result"
    }
   ],
   "source": [
    "import pandas as pd\n",
    "from pathlib import Path\n",
    "\n",
    "file_path = Path('/Users/seowoonam/Desktop/gliner flask/csv/tree_loss.csv')\n",
    "data = pd.read_csv(file_path)\n",
    "data"
   ]
  },
  {
   "cell_type": "code",
   "execution_count": 14,
   "metadata": {},
   "outputs": [
    {
     "data": {
      "text/plain": [
       "Index(['iso', 'country_name', 'year', 'tree_loss_ha', 'tree_loss_by_fires_ha'], dtype='object')"
      ]
     },
     "execution_count": 14,
     "metadata": {},
     "output_type": "execute_result"
    }
   ],
   "source": [
    "data.columns"
   ]
  },
  {
   "cell_type": "code",
   "execution_count": 15,
   "metadata": {},
   "outputs": [
    {
     "data": {
      "text/plain": [
       "array(['Afghanistan', 'Angola', 'Anguilla', 'Åland', 'Albania', 'Andorra',\n",
       "       'Argentina', 'Armenia', 'Antigua and Barbuda', 'Australia',\n",
       "       'Austria', 'Azerbaijan', 'Burundi', 'Belgium', 'Benin',\n",
       "       'Bonaire, Saint Eustatius and Saba', 'Burkina Faso', 'Bangladesh',\n",
       "       'Bulgaria', 'Bahamas', 'Bosnia and Herzegovina', 'Belarus',\n",
       "       'Belize', 'Bermuda', 'Bolivia', 'Brazil', 'Barbados', 'Brunei',\n",
       "       'Bhutan', 'Botswana', 'Central African Republic', 'Canada',\n",
       "       'Switzerland', 'Chile', 'China', \"Côte d'Ivoire\", 'Cameroon',\n",
       "       'Democratic Republic of the Congo', 'Republic of Congo',\n",
       "       'Colombia', 'Comoros', 'Cape Verde', 'Costa Rica', 'Cuba',\n",
       "       'Curaçao', 'Cayman Islands', 'Cyprus', 'Czech Republic', 'Germany',\n",
       "       'Dominica', 'Denmark', 'Dominican Republic', 'Algeria', 'Ecuador',\n",
       "       'Egypt', 'Eritrea', 'Spain', 'Estonia', 'Ethiopia', 'Finland',\n",
       "       'Fiji', 'France', 'Gabon', 'United Kingdom', 'Georgia', 'Guernsey',\n",
       "       'Ghana', 'Gibraltar', 'Guinea', 'Guadeloupe', 'Gambia',\n",
       "       'Guinea-Bissau', 'Equatorial Guinea', 'Greece', 'Grenada',\n",
       "       'Guatemala', 'French Guiana', 'Guyana', 'Hong Kong', 'Honduras',\n",
       "       'Croatia', 'Haiti', 'Hungary', 'Indonesia', 'Isle of Man', 'India',\n",
       "       'Ireland', 'Iran', 'Iraq', 'Israel', 'Italy', 'Jamaica', 'Jersey',\n",
       "       'Jordan', 'Japan', 'Kazakhstan', 'Kenya', 'Kyrgyzstan', 'Cambodia',\n",
       "       'Saint Kitts and Nevis', 'South Korea', 'Laos', 'Lebanon',\n",
       "       'Liberia', 'Libya', 'Saint Lucia', 'Liechtenstein', 'Sri Lanka',\n",
       "       'Lesotho', 'Lithuania', 'Luxembourg', 'Latvia', 'Macao',\n",
       "       'Saint-Martin', 'Morocco', 'Moldova', 'Madagascar', 'Maldives',\n",
       "       'Mexico', 'Macedonia', 'Mali', 'Malta', 'Myanmar', 'Montenegro',\n",
       "       'Mongolia', 'Mozambique', 'Mauritania', 'Montserrat', 'Martinique',\n",
       "       'Mauritius', 'Malawi', 'Malaysia', 'Mayotte', 'Namibia',\n",
       "       'New Caledonia', 'Niger', 'Nigeria', 'Nicaragua', 'Netherlands',\n",
       "       'Norway', 'Nepal', 'New Zealand', 'Pakistan', 'Panama', 'Peru',\n",
       "       'Philippines', 'Palau', 'Papua New Guinea', 'Poland',\n",
       "       'Puerto Rico', 'North Korea', 'Portugal', 'Paraguay', 'Palestina',\n",
       "       'Reunion', 'Romania', 'Russia', 'Rwanda', 'Sudan', 'Senegal',\n",
       "       'Singapore', 'Solomon Islands', 'Sierra Leone', 'El Salvador',\n",
       "       'Somalia', 'Serbia', 'South Sudan', 'Sao Tome and Principe',\n",
       "       'Suriname', 'Slovakia', 'Slovenia', 'Sweden', 'Swaziland',\n",
       "       'Sint Maarten', 'Seychelles', 'Syria', 'Turks and Caicos Islands',\n",
       "       'Chad', 'Togo', 'Thailand', 'Tajikistan', 'Turkmenistan',\n",
       "       'East Timor', 'Trinidad and Tobago', 'Tunisia', 'Turkey', 'Taiwan',\n",
       "       'Tanzania', 'Uganda', 'Ukraine',\n",
       "       'United States Minor Outlying Islands', 'Uruguay', 'United States',\n",
       "       'Uzbekistan', 'Saint Vincent and the Grenadines', 'Venezuela',\n",
       "       'British Virgin Islands', 'Virgin Islands, U.S.', 'Vietnam',\n",
       "       'Vanuatu', 'Akrotiri and Dhekelia', nan, 'Kosovo',\n",
       "       'Northern Cyprus', 'South Africa', 'Zambia', 'Zimbabwe', 'Aruba',\n",
       "       'San Marino', 'Saint Pierre and Miquelon', 'Saint-Barthélemy',\n",
       "       'Oman', 'Saudi Arabia', 'French Southern Territories',\n",
       "       'Micronesia', 'United Arab Emirates'], dtype=object)"
      ]
     },
     "execution_count": 15,
     "metadata": {},
     "output_type": "execute_result"
    }
   ],
   "source": [
    "data['country_name'].unique()"
   ]
  },
  {
   "cell_type": "code",
   "execution_count": 17,
   "metadata": {},
   "outputs": [
    {
     "ename": "AttributeError",
     "evalue": "'dict' object has no attribute 'dimensions'",
     "output_type": "error",
     "traceback": [
      "\u001b[0;31m---------------------------------------------------------------------------\u001b[0m",
      "\u001b[0;31mAttributeError\u001b[0m                            Traceback (most recent call last)",
      "\u001b[1;32m/Users/seowoonam/Desktop/gliner flask/examples.ipynb Cell 8\u001b[0m line \u001b[0;36m1\n\u001b[1;32m      <a href='vscode-notebook-cell:/Users/seowoonam/Desktop/gliner%20flask/examples.ipynb#X13sZmlsZQ%3D%3D?line=0'>1</a>\u001b[0m json \u001b[39m=\u001b[39m {\n\u001b[1;32m      <a href='vscode-notebook-cell:/Users/seowoonam/Desktop/gliner%20flask/examples.ipynb#X13sZmlsZQ%3D%3D?line=1'>2</a>\u001b[0m   \u001b[39m\"\u001b[39m\u001b[39mdimensions\u001b[39m\u001b[39m\"\u001b[39m: {\n\u001b[1;32m      <a href='vscode-notebook-cell:/Users/seowoonam/Desktop/gliner%20flask/examples.ipynb#X13sZmlsZQ%3D%3D?line=2'>3</a>\u001b[0m     \u001b[39m\"\u001b[39m\u001b[39mcountry\u001b[39m\u001b[39m\"\u001b[39m: \u001b[39m\"\u001b[39m\u001b[39mcountry_name\u001b[39m\u001b[39m\"\u001b[39m,\n\u001b[0;32m   (...)\u001b[0m\n\u001b[1;32m      <a href='vscode-notebook-cell:/Users/seowoonam/Desktop/gliner%20flask/examples.ipynb#X13sZmlsZQ%3D%3D?line=7'>8</a>\u001b[0m   }\n\u001b[1;32m      <a href='vscode-notebook-cell:/Users/seowoonam/Desktop/gliner%20flask/examples.ipynb#X13sZmlsZQ%3D%3D?line=8'>9</a>\u001b[0m }\n\u001b[0;32m---> <a href='vscode-notebook-cell:/Users/seowoonam/Desktop/gliner%20flask/examples.ipynb#X13sZmlsZQ%3D%3D?line=9'>10</a>\u001b[0m json\u001b[39m.\u001b[39;49mdimensions\n",
      "\u001b[0;31mAttributeError\u001b[0m: 'dict' object has no attribute 'dimensions'"
     ]
    }
   ],
   "source": [
    "json = {\n",
    "  \"dimensions\": {\n",
    "    \"country\": \"country_name\",\n",
    "    \"year\": \"year\"\n",
    "  },\n",
    "  \"metrics\": {\n",
    "    \"deforestation_rate\": \"tree_loss_ha\"\n",
    "  }\n",
    "}\n",
    "json.dimensions"
   ]
  },
  {
   "cell_type": "code",
   "execution_count": null,
   "metadata": {},
   "outputs": [],
   "source": []
  },
  {
   "cell_type": "code",
   "execution_count": 5,
   "metadata": {},
   "outputs": [
    {
     "data": {
      "text/plain": [
       "'country_name'"
      ]
     },
     "execution_count": 5,
     "metadata": {},
     "output_type": "execute_result"
    }
   ],
   "source": [
    "json['dimensions']['country']"
   ]
  },
  {
   "cell_type": "code",
   "execution_count": 10,
   "metadata": {},
   "outputs": [
    {
     "name": "stdout",
     "output_type": "stream",
     "text": [
      "key='country', value='country_name'\n",
      "key='year', value='year'\n"
     ]
    },
    {
     "data": {
      "text/plain": [
       "[None, None]"
      ]
     },
     "execution_count": 10,
     "metadata": {},
     "output_type": "execute_result"
    }
   ],
   "source": [
    "[print(f'{key=}, {value=}') for key, value in json['dimensions'].items()]"
   ]
  },
  {
   "cell_type": "code",
   "execution_count": null,
   "metadata": {},
   "outputs": [],
   "source": []
  },
  {
   "cell_type": "code",
   "execution_count": null,
   "metadata": {},
   "outputs": [],
   "source": []
  },
  {
   "cell_type": "code",
   "execution_count": null,
   "metadata": {},
   "outputs": [],
   "source": []
  },
  {
   "cell_type": "code",
   "execution_count": null,
   "metadata": {},
   "outputs": [],
   "source": []
  },
  {
   "cell_type": "code",
   "execution_count": null,
   "metadata": {},
   "outputs": [],
   "source": []
  },
  {
   "cell_type": "code",
   "execution_count": null,
   "metadata": {},
   "outputs": [],
   "source": []
  },
  {
   "cell_type": "code",
   "execution_count": null,
   "metadata": {},
   "outputs": [],
   "source": []
  }
 ],
 "metadata": {
  "kernelspec": {
   "display_name": ".venv",
   "language": "python",
   "name": "python3"
  },
  "language_info": {
   "codemirror_mode": {
    "name": "ipython",
    "version": 3
   },
   "file_extension": ".py",
   "mimetype": "text/x-python",
   "name": "python",
   "nbconvert_exporter": "python",
   "pygments_lexer": "ipython3",
   "version": "3.9.7"
  }
 },
 "nbformat": 4,
 "nbformat_minor": 2
}
